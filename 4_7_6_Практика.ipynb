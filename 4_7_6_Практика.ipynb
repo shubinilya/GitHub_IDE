{
 "cells": [
  {
   "cell_type": "markdown",
   "id": "203fb80e-a314-4876-850c-5e4913f78563",
   "metadata": {
    "id": "203fb80e-a314-4876-850c-5e4913f78563",
    "tags": []
   },
   "source": [
    "## 2. Базовая оптимизация"
   ]
  },
  {
   "cell_type": "code",
   "execution_count": 53,
   "id": "d8q91-MSaAOG",
   "metadata": {
    "id": "d8q91-MSaAOG"
   },
   "outputs": [
    {
     "name": "stderr",
     "output_type": "stream",
     "text": [
      "C:\\Users\\Home\\AppData\\Local\\Temp\\ipykernel_11028\\2150022218.py:15: MatplotlibDeprecationWarning: The seaborn styles shipped by Matplotlib are deprecated since 3.6, as they no longer correspond to the styles shipped by seaborn. However, they will remain available as 'seaborn-v0_8-<style>'. Alternatively, directly use the seaborn API instead.\n",
      "  plt.style.use('seaborn')\n"
     ]
    }
   ],
   "source": [
    "#импорт библиотек\n",
    "import numpy as np #для матричных вычислений\n",
    "import pandas as pd #для анализа и предобработки данных\n",
    "import matplotlib.pyplot as plt #для визуализации\n",
    "import seaborn as sns #для визуализации\n",
    "\n",
    "from sklearn import linear_model #линейные моделиё\n",
    "from sklearn import tree #деревья решений\n",
    "from sklearn import ensemble #ансамбли\n",
    "from sklearn import metrics #метрики\n",
    "from sklearn import preprocessing #предобработка\n",
    "from sklearn.model_selection import train_test_split #сплитование выборки\n",
    "\n",
    "%matplotlib inline\n",
    "plt.style.use('seaborn')"
   ]
  },
  {
   "cell_type": "markdown",
   "id": "ezanmTbEaAOe",
   "metadata": {
    "id": "ezanmTbEaAOe",
    "tags": []
   },
   "source": [
    "### Описание задачи"
   ]
  },
  {
   "cell_type": "markdown",
   "id": "8SprnF5HaAOj",
   "metadata": {
    "id": "8SprnF5HaAOj"
   },
   "source": [
    "Данные представлены в формате CSV.  Каждая строка представляет молекулу. \n",
    "\n",
    "Первый столбец Activity содержит экспериментальные данные, описывающие фактический биологический ответ [0, 1]; \n",
    "Остальные столбцы D1-D1776 представляют собой молекулярные дескрипторы — это вычисляемые свойства, \n",
    "которые могут фиксировать некоторые характеристики молекулы, например размер, форму или состав элементов."
   ]
  },
  {
   "cell_type": "markdown",
   "id": "8lbyun1kaAOy",
   "metadata": {
    "id": "8lbyun1kaAOy",
    "tags": []
   },
   "source": [
    "### Знакомство с данными и их исследование"
   ]
  },
  {
   "cell_type": "code",
   "execution_count": 54,
   "id": "p770SmlfaAO3",
   "metadata": {
    "colab": {
     "base_uri": "https://localhost:8080/",
     "height": 223
    },
    "executionInfo": {
     "elapsed": 40242,
     "status": "ok",
     "timestamp": 1650553529870,
     "user": {
      "displayName": "VICDS _",
      "userId": "16539764637744847477"
     },
     "user_tz": -180
    },
    "id": "p770SmlfaAO3",
    "outputId": "d6f8209e-05bf-452c-dd16-2f5725c31f1a"
   },
   "outputs": [
    {
     "data": {
      "text/html": [
       "<div>\n",
       "<style scoped>\n",
       "    .dataframe tbody tr th:only-of-type {\n",
       "        vertical-align: middle;\n",
       "    }\n",
       "\n",
       "    .dataframe tbody tr th {\n",
       "        vertical-align: top;\n",
       "    }\n",
       "\n",
       "    .dataframe thead th {\n",
       "        text-align: right;\n",
       "    }\n",
       "</style>\n",
       "<table border=\"1\" class=\"dataframe\">\n",
       "  <thead>\n",
       "    <tr style=\"text-align: right;\">\n",
       "      <th></th>\n",
       "      <th>Activity</th>\n",
       "      <th>D1</th>\n",
       "      <th>D2</th>\n",
       "      <th>D3</th>\n",
       "      <th>D4</th>\n",
       "      <th>D5</th>\n",
       "      <th>D6</th>\n",
       "      <th>D7</th>\n",
       "      <th>D8</th>\n",
       "      <th>D9</th>\n",
       "      <th>...</th>\n",
       "      <th>D1767</th>\n",
       "      <th>D1768</th>\n",
       "      <th>D1769</th>\n",
       "      <th>D1770</th>\n",
       "      <th>D1771</th>\n",
       "      <th>D1772</th>\n",
       "      <th>D1773</th>\n",
       "      <th>D1774</th>\n",
       "      <th>D1775</th>\n",
       "      <th>D1776</th>\n",
       "    </tr>\n",
       "  </thead>\n",
       "  <tbody>\n",
       "    <tr>\n",
       "      <th>0</th>\n",
       "      <td>1</td>\n",
       "      <td>0.000000</td>\n",
       "      <td>0.497009</td>\n",
       "      <td>0.10</td>\n",
       "      <td>0.0</td>\n",
       "      <td>0.132956</td>\n",
       "      <td>0.678031</td>\n",
       "      <td>0.273166</td>\n",
       "      <td>0.585445</td>\n",
       "      <td>0.743663</td>\n",
       "      <td>...</td>\n",
       "      <td>0</td>\n",
       "      <td>0</td>\n",
       "      <td>0</td>\n",
       "      <td>0</td>\n",
       "      <td>0</td>\n",
       "      <td>0</td>\n",
       "      <td>0</td>\n",
       "      <td>0</td>\n",
       "      <td>0</td>\n",
       "      <td>0</td>\n",
       "    </tr>\n",
       "    <tr>\n",
       "      <th>1</th>\n",
       "      <td>1</td>\n",
       "      <td>0.366667</td>\n",
       "      <td>0.606291</td>\n",
       "      <td>0.05</td>\n",
       "      <td>0.0</td>\n",
       "      <td>0.111209</td>\n",
       "      <td>0.803455</td>\n",
       "      <td>0.106105</td>\n",
       "      <td>0.411754</td>\n",
       "      <td>0.836582</td>\n",
       "      <td>...</td>\n",
       "      <td>1</td>\n",
       "      <td>1</td>\n",
       "      <td>1</td>\n",
       "      <td>1</td>\n",
       "      <td>0</td>\n",
       "      <td>1</td>\n",
       "      <td>0</td>\n",
       "      <td>0</td>\n",
       "      <td>1</td>\n",
       "      <td>0</td>\n",
       "    </tr>\n",
       "    <tr>\n",
       "      <th>2</th>\n",
       "      <td>1</td>\n",
       "      <td>0.033300</td>\n",
       "      <td>0.480124</td>\n",
       "      <td>0.00</td>\n",
       "      <td>0.0</td>\n",
       "      <td>0.209791</td>\n",
       "      <td>0.610350</td>\n",
       "      <td>0.356453</td>\n",
       "      <td>0.517720</td>\n",
       "      <td>0.679051</td>\n",
       "      <td>...</td>\n",
       "      <td>0</td>\n",
       "      <td>0</td>\n",
       "      <td>0</td>\n",
       "      <td>0</td>\n",
       "      <td>0</td>\n",
       "      <td>0</td>\n",
       "      <td>0</td>\n",
       "      <td>0</td>\n",
       "      <td>0</td>\n",
       "      <td>0</td>\n",
       "    </tr>\n",
       "    <tr>\n",
       "      <th>3</th>\n",
       "      <td>1</td>\n",
       "      <td>0.000000</td>\n",
       "      <td>0.538825</td>\n",
       "      <td>0.00</td>\n",
       "      <td>0.5</td>\n",
       "      <td>0.196344</td>\n",
       "      <td>0.724230</td>\n",
       "      <td>0.235606</td>\n",
       "      <td>0.288764</td>\n",
       "      <td>0.805110</td>\n",
       "      <td>...</td>\n",
       "      <td>0</td>\n",
       "      <td>0</td>\n",
       "      <td>0</td>\n",
       "      <td>0</td>\n",
       "      <td>0</td>\n",
       "      <td>0</td>\n",
       "      <td>0</td>\n",
       "      <td>0</td>\n",
       "      <td>0</td>\n",
       "      <td>0</td>\n",
       "    </tr>\n",
       "    <tr>\n",
       "      <th>4</th>\n",
       "      <td>0</td>\n",
       "      <td>0.100000</td>\n",
       "      <td>0.517794</td>\n",
       "      <td>0.00</td>\n",
       "      <td>0.0</td>\n",
       "      <td>0.494734</td>\n",
       "      <td>0.781422</td>\n",
       "      <td>0.154361</td>\n",
       "      <td>0.303809</td>\n",
       "      <td>0.812646</td>\n",
       "      <td>...</td>\n",
       "      <td>0</td>\n",
       "      <td>0</td>\n",
       "      <td>0</td>\n",
       "      <td>0</td>\n",
       "      <td>0</td>\n",
       "      <td>0</td>\n",
       "      <td>0</td>\n",
       "      <td>0</td>\n",
       "      <td>0</td>\n",
       "      <td>0</td>\n",
       "    </tr>\n",
       "  </tbody>\n",
       "</table>\n",
       "<p>5 rows × 1777 columns</p>\n",
       "</div>"
      ],
      "text/plain": [
       "   Activity        D1        D2    D3   D4        D5        D6        D7  \\\n",
       "0         1  0.000000  0.497009  0.10  0.0  0.132956  0.678031  0.273166   \n",
       "1         1  0.366667  0.606291  0.05  0.0  0.111209  0.803455  0.106105   \n",
       "2         1  0.033300  0.480124  0.00  0.0  0.209791  0.610350  0.356453   \n",
       "3         1  0.000000  0.538825  0.00  0.5  0.196344  0.724230  0.235606   \n",
       "4         0  0.100000  0.517794  0.00  0.0  0.494734  0.781422  0.154361   \n",
       "\n",
       "         D8        D9  ...  D1767  D1768  D1769  D1770  D1771  D1772  D1773  \\\n",
       "0  0.585445  0.743663  ...      0      0      0      0      0      0      0   \n",
       "1  0.411754  0.836582  ...      1      1      1      1      0      1      0   \n",
       "2  0.517720  0.679051  ...      0      0      0      0      0      0      0   \n",
       "3  0.288764  0.805110  ...      0      0      0      0      0      0      0   \n",
       "4  0.303809  0.812646  ...      0      0      0      0      0      0      0   \n",
       "\n",
       "   D1774  D1775  D1776  \n",
       "0      0      0      0  \n",
       "1      0      1      0  \n",
       "2      0      0      0  \n",
       "3      0      0      0  \n",
       "4      0      0      0  \n",
       "\n",
       "[5 rows x 1777 columns]"
      ]
     },
     "execution_count": 54,
     "metadata": {},
     "output_type": "execute_result"
    }
   ],
   "source": [
    "data = pd.read_csv('data/_train_sem09 (1).csv')\n",
    "\n",
    "data.head()"
   ]
  },
  {
   "cell_type": "markdown",
   "id": "8p3eELnEaAQW",
   "metadata": {
    "id": "8p3eELnEaAQW"
   },
   "source": [
    "Создаем матрицу наблюдений $X$ и вектор ответов $y$"
   ]
  },
  {
   "cell_type": "code",
   "execution_count": 55,
   "id": "_2GncsCbaAQY",
   "metadata": {
    "id": "_2GncsCbaAQY"
   },
   "outputs": [],
   "source": [
    "X = data.drop(['Activity'], axis=1)\n",
    "y = data['Activity']"
   ]
  },
  {
   "cell_type": "markdown",
   "id": "q4SyRSFhaAQZ",
   "metadata": {
    "id": "q4SyRSFhaAQZ"
   },
   "source": [
    "Разделяем выборку на тренировочную и тестовую в соотношении 80/20. Для сохранения соотношений целевого признака используем параметр stratify (стратифицированное разбиение). "
   ]
  },
  {
   "cell_type": "code",
   "execution_count": 56,
   "id": "Fl_eJIInaAQa",
   "metadata": {
    "id": "Fl_eJIInaAQa"
   },
   "outputs": [],
   "source": [
    "X_train, X_test, y_train, y_test = train_test_split(X, y, stratify=y, random_state = 1, test_size = 0.2)"
   ]
  },
  {
   "cell_type": "code",
   "execution_count": 57,
   "id": "ee4d1b70",
   "metadata": {},
   "outputs": [
    {
     "data": {
      "image/png": "[encoded data removed]",
      "text/plain": [
       "<Figure size 576x396 with 1 Axes>"
      ]
     },
     "metadata": {},
     "output_type": "display_data"
    }
   ],
   "source": [
    "# Проверим на сбалансированность классов:\n",
    "sns.countplot(data=data, x='Activity');"
   ]
  },
  {
   "cell_type": "markdown",
   "id": "CE7v-medaAQh",
   "metadata": {
    "id": "CE7v-medaAQh",
    "tags": []
   },
   "source": [
    "### Оценка метрик моделей LogisticRegression и RandomForestClassifier без дополнительной настройки"
   ]
  },
  {
   "cell_type": "markdown",
   "id": "8854cd15",
   "metadata": {},
   "source": [
    "### <center> **LogisticRegression**"
   ]
  },
  {
   "cell_type": "code",
   "execution_count": 58,
   "id": "0aMCHU3-aAQn",
   "metadata": {
    "colab": {
     "base_uri": "https://localhost:8080/"
    },
    "executionInfo": {
     "elapsed": 160,
     "status": "ok",
     "timestamp": 1650547896821,
     "user": {
      "displayName": "VICDS _",
      "userId": "16539764637744847477"
     },
     "user_tz": -180
    },
    "id": "0aMCHU3-aAQn",
    "outputId": "ce2823fa-1cb5-4ec5-dd51-fec74d3ccd33"
   },
   "outputs": [
    {
     "name": "stdout",
     "output_type": "stream",
     "text": [
      "F1 на тестовом наборе: 0.78\n"
     ]
    }
   ],
   "source": [
    "#Создаем объект класса логистическая регрессия\n",
    "log_reg = linear_model.LogisticRegression(random_state=42, max_iter = 1000)\n",
    "\n",
    "#Обучаем модель, минимизируя logloss\n",
    "log_reg.fit(X_train, y_train)\n",
    "\n",
    "y_test_pred = log_reg.predict(X_test)\n",
    "print('F1 на тестовом наборе: {:.2f}'.format(metrics.f1_score(y_test, y_test_pred)))"
   ]
  },
  {
   "cell_type": "markdown",
   "id": "f23ba551",
   "metadata": {},
   "source": [
    "### <center> **RandomForestClassifier**"
   ]
  },
  {
   "cell_type": "code",
   "execution_count": 59,
   "id": "de78250a",
   "metadata": {},
   "outputs": [
    {
     "name": "stdout",
     "output_type": "stream",
     "text": [
      "F1 на тестовом наборе: 0.81\n"
     ]
    }
   ],
   "source": [
    "#Создаем объект класса случайный лес\n",
    "rf = ensemble.RandomForestClassifier(random_state=42)\n",
    "\n",
    "#Обучаем модель\n",
    "rf.fit(X_train, y_train)\n",
    "#Выводим значения метрики \n",
    "\n",
    "y_test_pred = rf.predict(X_test)\n",
    "print('F1 на тестовом наборе: {:.2f}'.format(metrics.f1_score(y_test, y_test_pred)))"
   ]
  },
  {
   "cell_type": "markdown",
   "id": "H7DZBta2aAQf",
   "metadata": {
    "id": "H7DZBta2aAQf",
    "tags": []
   },
   "source": [
    "###  Подбор гиперпараметров с помощью базовых  методов оптимизации GridSearchCV и RandomizedSearchCV"
   ]
  },
  {
   "cell_type": "markdown",
   "id": "Q6PP7ObJp7WG",
   "metadata": {
    "id": "Q6PP7ObJp7WG"
   },
   "source": [
    "### <center> **GridSearchCV**"
   ]
  },
  {
   "cell_type": "code",
   "execution_count": 60,
   "id": "gLkG_sbSkBcu",
   "metadata": {
    "colab": {
     "base_uri": "https://localhost:8080/"
    },
    "executionInfo": {
     "elapsed": 71581,
     "status": "ok",
     "timestamp": 1650547968248,
     "user": {
      "displayName": "VICDS _",
      "userId": "16539764637744847477"
     },
     "user_tz": -180
    },
    "id": "gLkG_sbSkBcu",
    "outputId": "9bf92017-3d32-43fd-f801-9533285646b4"
   },
   "outputs": [
    {
     "name": "stdout",
     "output_type": "stream",
     "text": [
      "CPU times: total: 6.9 s\n",
      "Wall time: 2min 22s\n",
      "f1_score на тестовом наборе: 0.79\n",
      "Наилучшие значения гиперпараметров: {'C': 0.1, 'penalty': 'l2', 'solver': 'sag'}\n"
     ]
    },
    {
     "name": "stderr",
     "output_type": "stream",
     "text": [
      "c:\\Users\\Home\\AppData\\Local\\Programs\\Python\\Python38\\lib\\site-packages\\sklearn\\linear_model\\_sag.py:350: ConvergenceWarning: The max_iter was reached which means the coef_ did not converge\n",
      "  warnings.warn(\n"
     ]
    }
   ],
   "source": [
    "from sklearn.model_selection import GridSearchCV\n",
    "\n",
    "penalty_list = ['l2', 'none']\n",
    "solver_list = ['lbfgs', 'sag']\n",
    "c_list = [0.01, 0.1, 1]\n",
    "\n",
    "param_grid = {'penalty': penalty_list , # тип регуляризации\n",
    "              'solver': solver_list, # алгоритм оптимизации\n",
    "               'C': c_list} # уровень силы регурялизации\n",
    "\n",
    "grid_search = GridSearchCV(\n",
    "    estimator=linear_model.LogisticRegression(\n",
    "        random_state=42, #генератор случайных чисел\n",
    "        max_iter=100 #количество итераций на сходимость\n",
    "    ), \n",
    "    param_grid=param_grid, \n",
    "    cv=5, \n",
    "    n_jobs = -1\n",
    ")  \n",
    "%time grid_search.fit(X_train, y_train) \n",
    "y_test_pred = grid_search.predict(X_test)\n",
    "\n",
    "print('f1_score на тестовом наборе: {:.2f}'.format(metrics.f1_score(y_test, y_test_pred)))\n",
    "print(\"Наилучшие значения гиперпараметров: {}\".format(grid_search.best_params_))"
   ]
  },
  {
   "cell_type": "markdown",
   "id": "C6O5rNDhXwN6",
   "metadata": {
    "id": "C6O5rNDhXwN6"
   },
   "source": [
    "Значения метрики f1 на тестовом наборе увеличилось с 0.78 до 0.79 для LogisticRegression"
   ]
  },
  {
   "cell_type": "code",
   "execution_count": 61,
   "id": "0ccc8f6d",
   "metadata": {},
   "outputs": [
    {
     "name": "stdout",
     "output_type": "stream",
     "text": [
      "CPU times: total: 5.46 s\n",
      "Wall time: 5min 44s\n",
      "f1_score на тестовом наборе: 0.82\n",
      "Наилучшие значения гиперпараметров: {'max_depth': 22, 'min_samples_leaf': 1, 'n_estimators': 200}\n",
      "f1_score на тренировоном наборе: 1.00\n"
     ]
    }
   ],
   "source": [
    "n_estimators = [100,200,300]\n",
    "max_depth = [1,3,5,7,10,22] \n",
    "min_samples_leaf = [1,2,3] \n",
    "\n",
    "param_grid = {'n_estimators': n_estimators,\n",
    "               'max_depth': max_depth,             \n",
    "               'min_samples_leaf': min_samples_leaf\n",
    "               }\n",
    "\n",
    "grid_search = GridSearchCV(\n",
    "    estimator=ensemble.RandomForestClassifier(random_state=42), \n",
    "    param_grid=param_grid, \n",
    "    cv=5, \n",
    "    n_jobs = -1\n",
    ")  \n",
    "%time grid_search.fit(X_train, y_train)\n",
    "y_test_pred = grid_search.predict(X_test)\n",
    "\n",
    "print('f1_score на тестовом наборе: {:.2f}'.format(metrics.f1_score(y_test, y_test_pred)))\n",
    "print(\"Наилучшие значения гиперпараметров: {}\".format(grid_search.best_params_))\n",
    "\n",
    "y_train_pred = grid_search.predict(X_train)\n",
    "print('f1_score на тренировоном наборе: {:.2f}'.format(metrics.f1_score(y_train, y_train_pred)))"
   ]
  },
  {
   "cell_type": "markdown",
   "id": "2be571cd",
   "metadata": {},
   "source": [
    "Для RandomForestClassifier значение метрики f1 на тестовом наборе увеличилось с 0.81 до 0.82"
   ]
  },
  {
   "cell_type": "markdown",
   "id": "c1e53d49",
   "metadata": {},
   "source": [
    "### <center> **RandomizedSearchCV**"
   ]
  },
  {
   "cell_type": "code",
   "execution_count": 62,
   "id": "4yjUJJKntcX7",
   "metadata": {
    "colab": {
     "base_uri": "https://localhost:8080/"
    },
    "executionInfo": {
     "elapsed": 67382,
     "status": "ok",
     "timestamp": 1650548481134,
     "user": {
      "displayName": "VICDS _",
      "userId": "16539764637744847477"
     },
     "user_tz": -180
    },
    "id": "4yjUJJKntcX7",
    "outputId": "c7964d60-9c70-42f4-8f0c-217d9e568ddc"
   },
   "outputs": [
    {
     "name": "stdout",
     "output_type": "stream",
     "text": [
      "CPU times: total: 7.22 s\n",
      "Wall time: 1min 52s\n",
      "f1_score на тестовом наборе: 0.79\n",
      "Наилучшие значения гиперпараметров: {'solver': 'sag', 'penalty': 'l2', 'C': 0.1}\n"
     ]
    },
    {
     "name": "stderr",
     "output_type": "stream",
     "text": [
      "c:\\Users\\Home\\AppData\\Local\\Programs\\Python\\Python38\\lib\\site-packages\\sklearn\\linear_model\\_sag.py:350: ConvergenceWarning: The max_iter was reached which means the coef_ did not converge\n",
      "  warnings.warn(\n"
     ]
    }
   ],
   "source": [
    "from sklearn.model_selection import RandomizedSearchCV\n",
    "\n",
    "penalty_list = ['l2', 'none']\n",
    "solver_list = ['lbfgs', 'sag']\n",
    "c_list = [0.01, 0.1, 1]\n",
    "\n",
    "param_grid = {'penalty': penalty_list , # тип регуляризации\n",
    "              'solver': solver_list, # алгоритм оптимизации\n",
    "               'C': c_list} # уровень силы регурялизации\n",
    "\n",
    "            \n",
    "random_search = RandomizedSearchCV(\n",
    "    estimator=linear_model.LogisticRegression(random_state=42, max_iter=100), \n",
    "    param_distributions=param_grid, \n",
    "    cv=5, \n",
    "    n_iter = 10, \n",
    "    n_jobs = -1\n",
    ")  \n",
    "%time random_search.fit(X_train, y_train) \n",
    "y_test_pred = random_search.predict(X_test)\n",
    "\n",
    "print('f1_score на тестовом наборе: {:.2f}'.format(metrics.f1_score(y_test, y_test_pred)))\n",
    "print(\"Наилучшие значения гиперпараметров: {}\".format(random_search.best_params_))\n"
   ]
  },
  {
   "cell_type": "markdown",
   "id": "o70ZkAU5Ok4A",
   "metadata": {
    "id": "o70ZkAU5Ok4A"
   },
   "source": [
    "За 10 итераций метрику улучшить не удалось. Гиперпараметры получились такие же как при GridSearchCV.\n",
    "Но времени было затрачено меньше.\n",
    "\n",
    "PS Наилучшие значения гиперпараметров: {'C': 0.1, 'penalty': 'l2', 'solver': 'sag'} методом GridSearchCV. f1_score на тестовом наборе: 0.79"
   ]
  },
  {
   "cell_type": "code",
   "execution_count": 63,
   "id": "bhBsJm_irM5e",
   "metadata": {
    "colab": {
     "base_uri": "https://localhost:8080/"
    },
    "executionInfo": {
     "elapsed": 534032,
     "status": "ok",
     "timestamp": 1650549015086,
     "user": {
      "displayName": "VICDS _",
      "userId": "16539764637744847477"
     },
     "user_tz": -180
    },
    "id": "bhBsJm_irM5e",
    "outputId": "0aa084e6-30a9-436f-d919-b7776d8f9d9b"
   },
   "outputs": [
    {
     "name": "stdout",
     "output_type": "stream",
     "text": [
      "CPU times: total: 4.02 s\n",
      "Wall time: 49 s\n",
      "f1_score на тестовом наборе: 0.83\n",
      "Наилучшие значения гиперпараметров: {'n_estimators': 200, 'min_samples_leaf': 3, 'max_depth': 22}\n"
     ]
    }
   ],
   "source": [
    "n_estimators = [100,200,300]\n",
    "max_depth = [1,3,5,7,10,22] \n",
    "min_samples_leaf = [1,2,3] #1\n",
    "\n",
    "param_grid = {'n_estimators': n_estimators,\n",
    "               'max_depth': max_depth,             \n",
    "               'min_samples_leaf': min_samples_leaf\n",
    "               }\n",
    "\n",
    "\n",
    "random_search = RandomizedSearchCV(\n",
    "    estimator=ensemble.RandomForestClassifier(random_state=42), \n",
    "    param_distributions=param_grid, \n",
    "    cv=5, \n",
    "    n_iter = 10, \n",
    "    n_jobs = -1\n",
    ")  \n",
    "\n",
    "%time random_search.fit(X_train, y_train) \n",
    "y_test_pred = random_search.predict(X_test)\n",
    "\n",
    "print('f1_score на тестовом наборе: {:.2f}'.format(metrics.f1_score(y_test, y_test_pred)))\n",
    "print(\"Наилучшие значения гиперпараметров: {}\".format(random_search.best_params_))"
   ]
  },
  {
   "cell_type": "markdown",
   "id": "72d3cb91",
   "metadata": {},
   "source": [
    "Метрика увеличилась с 0.82 до 0.83\n",
    "При такой же сетке гиперпараметров RandomizedSearchCV затратил времени в четыре раза меньше чем GridSearchCV\n",
    "\n",
    "PS Наилучшие значения гиперпараметров: {'max_depth': 10, 'min_samples_leaf': 2, 'n_estimators': 200} методом GridSearchCV f1_score на тестовом наборе: 0.82"
   ]
  },
  {
   "cell_type": "markdown",
   "id": "Z0oexy_WZsgj",
   "metadata": {
    "id": "Z0oexy_WZsgj"
   },
   "source": [
    "**Вывод по базовой оптимизации:**\n",
    "На множестве примеров нам удалось продемонстрировать более эффективную и быструю работу RandomizedSearchCV над GridSearchCV."
   ]
  },
  {
   "cell_type": "markdown",
   "id": "9c224fa3-0468-4aa0-9877-057a98a92010",
   "metadata": {
    "id": "9c224fa3-0468-4aa0-9877-057a98a92010"
   },
   "source": [
    "###  Подбор гиперпараметров с помощью продвинутой оптимизации Hyperopt и Optuna"
   ]
  },
  {
   "cell_type": "markdown",
   "id": "Kmo2b6kPChhN",
   "metadata": {
    "id": "Kmo2b6kPChhN"
   },
   "source": [
    "### <center> **Hyperopt**"
   ]
  },
  {
   "cell_type": "code",
   "execution_count": 64,
   "id": "Ae44foDuCzke",
   "metadata": {
    "colab": {
     "base_uri": "https://localhost:8080/"
    },
    "executionInfo": {
     "elapsed": 523,
     "status": "ok",
     "timestamp": 1650551609649,
     "user": {
      "displayName": "VICDS _",
      "userId": "16539764637744847477"
     },
     "user_tz": -180
    },
    "id": "Ae44foDuCzke",
    "outputId": "ce7bca0b-071f-4b1b-fda9-a2f13878616c"
   },
   "outputs": [],
   "source": [
    "#делаем импорт и выведем версию библиотеки\n",
    "from sklearn.model_selection import cross_val_score\n",
    "import hyperopt\n",
    "from hyperopt import hp, fmin, tpe, Trials\n",
    "import time\n"
   ]
  },
  {
   "cell_type": "markdown",
   "id": "pci4SxXM_Cb4",
   "metadata": {
    "id": "pci4SxXM_Cb4"
   },
   "source": [
    "Интерфейс hyperopt отличается от Grid или RandomizedSearch, поэтому нам нужно создать функцию для минимизации, она должна принимать словарь значений гиперпараметров и возвращать значение целевой функции."
   ]
  },
  {
   "cell_type": "markdown",
   "id": "2fdbf813",
   "metadata": {},
   "source": [
    "**Настроим оптимизацию гиперпараметров для алгоритма логистической регрессии. Используем кросс-валидацию.**"
   ]
  },
  {
   "cell_type": "code",
   "execution_count": 65,
   "id": "3a34ae31",
   "metadata": {},
   "outputs": [],
   "source": [
    "penalty_list = ['l2', 'none']\n",
    "solver_list = ['lbfgs', 'sag']\n",
    "\n",
    "space = {'penalty': hp.choice('penalty',penalty_list) , # тип регуляризации\n",
    "        'solver': hp.choice('solver',solver_list), # алгоритм оптимизации\n",
    "        'C': hp.uniform(label='C', low=0.01, high=1)} # уровень силы регурялизации\n"
   ]
  },
  {
   "cell_type": "code",
   "execution_count": 66,
   "id": "19363662",
   "metadata": {},
   "outputs": [],
   "source": [
    "# зафксируем random_state\n",
    "random_state = 42\n",
    "def hyperopt_lr(params, cv=5, X=X_train, y=y_train, random_state=random_state):\n",
    "    \n",
    "    params = {'penalty': str(params['penalty']),\n",
    "              'solver': str(params['solver']),\n",
    "              'C': float(params['C'])\n",
    "              }\n",
    "\n",
    "    # используем эту комбинацию для построения модели\n",
    "    model = linear_model.LogisticRegression(**params, max_iter = 100, random_state=random_state)\n",
    "\n",
    "    # обучаем модель без кросс-валидации\n",
    "    # model.fit(X, y)\n",
    "    # score = metrics.f1_score(y, model.predict(X))\n",
    "    \n",
    "    # обучать модель можно также с помощью кросс-валидации\n",
    "    # применим  cross validation с тем же количеством фолдов\n",
    "    score = cross_val_score(model, X, y, cv=cv, scoring=\"f1\", n_jobs=-1).mean()\n",
    "\n",
    "    # метрику необходимо минимизировать, поэтому ставим знак минус\n",
    "    return -score"
   ]
  },
  {
   "cell_type": "code",
   "execution_count": 67,
   "id": "9e4a33d5",
   "metadata": {},
   "outputs": [
    {
     "name": "stdout",
     "output_type": "stream",
     "text": [
      "100%|██████████| 20/20 [04:32<00:00, 13.63s/trial, best loss: -0.7829442049757983]\n",
      "Optimisation time: {} 04:32\n"
     ]
    }
   ],
   "source": [
    "# начинаем подбор гиперпараметров\n",
    "start = time.time()\n",
    "\n",
    "trials = Trials() # используется для логирования результатов\n",
    "\n",
    "best=fmin(hyperopt_lr, # наша функция \n",
    "          space=space, # пространство гиперпараметров\n",
    "          algo=tpe.suggest, # алгоритм оптимизации, установлен по умолчанию, задавать необязательно\n",
    "          max_evals=20, # максимальное количество итераций\n",
    "          trials=trials, # логирование результатов\n",
    "          rstate=np.random.default_rng(random_state)# фиксируем для повторяемости результата\n",
    "         )\n",
    "\n",
    "from time import strftime\n",
    "from time import gmtime\n",
    "print('Optimisation time: {}',strftime(\"%M:%S\", gmtime(time.time() - start)))"
   ]
  },
  {
   "cell_type": "code",
   "execution_count": 68,
   "id": "2036a3e0",
   "metadata": {},
   "outputs": [
    {
     "name": "stdout",
     "output_type": "stream",
     "text": [
      "Best parameters:  penalty= l2  solver= lbfgs  С= 0.08292441519601887\n"
     ]
    }
   ],
   "source": [
    "print('Best parameters:', ' penalty=',penalty_list[best['penalty']],' solver=',solver_list[best['solver']], ' С=',float(best['C']))"
   ]
  },
  {
   "cell_type": "code",
   "execution_count": 69,
   "id": "d1ae96ed",
   "metadata": {},
   "outputs": [
    {
     "name": "stdout",
     "output_type": "stream",
     "text": [
      "f1_score на тестовом наборе: 0.79\n"
     ]
    }
   ],
   "source": [
    "# рассчитаем точность для тестовой выборки\n",
    "model = linear_model.LogisticRegression(random_state=random_state, \n",
    "                                        penalty = penalty_list[best['penalty']],   \n",
    "                                        solver = solver_list[best['solver']],\n",
    "                                        C = float(best['C']),\n",
    "                                        max_iter = 1000)\n",
    "\n",
    "model.fit(X_train, y_train)\n",
    "y_test_pred = model.predict(X_test)\n",
    "print('f1_score на тестовом наборе: {:.2f}'.format(metrics.f1_score(y_test, y_test_pred)))"
   ]
  },
  {
   "cell_type": "markdown",
   "id": "10b7ccb5",
   "metadata": {},
   "source": [
    "Для логистической регрессии метрику улучшить не удалось. \n",
    "\n",
    "Best parameters:  penalty= l2  solver= lbfgs  С= 0.08292441519601887 f1_score на тестовом наборе: 0.79\n",
    "\n",
    "PS RandomizedSearchCV Наилучшие значения гиперпараметров: {'solver': 'sag', 'penalty': 'l2', 'C': 0.1} f1_score на тестовом наборе: 0.79"
   ]
  },
  {
   "cell_type": "markdown",
   "id": "z9K7uLdZ69xr",
   "metadata": {
    "id": "z9K7uLdZ69xr"
   },
   "source": [
    "**Настроим оптимизацию гиперпараметров для алгоритма случайного леса. Используем кросс-валидацию.**"
   ]
  },
  {
   "cell_type": "code",
   "execution_count": 70,
   "id": "8dWxW_9K_qJp",
   "metadata": {
    "id": "8dWxW_9K_qJp"
   },
   "outputs": [],
   "source": [
    "# зададим пространство поиска гиперпараметров\n",
    "\n",
    "space={'n_estimators': hp.quniform('n_estimators', 100, 300, 10),\n",
    "       'max_depth' : hp.quniform('max_depth', 15, 40, 1),\n",
    "       'min_samples_leaf': hp.quniform('min_samples_leaf', 3, 7, 1)\n",
    "      }"
   ]
  },
  {
   "cell_type": "code",
   "execution_count": 71,
   "id": "t3JS7HXU8pd2",
   "metadata": {
    "id": "t3JS7HXU8pd2"
   },
   "outputs": [],
   "source": [
    "# зафксируем random_state\n",
    "random_state = 42\n",
    "def hyperopt_rf(params, cv=5, X=X_train, y=y_train, random_state=random_state):\n",
    "    # функция получает комбинацию гиперпараметров в \"params\"\n",
    "    params = {'n_estimators': int(params['n_estimators']), \n",
    "              'max_depth': int(params['max_depth']), \n",
    "             'min_samples_leaf': int(params['min_samples_leaf'])\n",
    "              }\n",
    "  \n",
    "    # используем эту комбинацию для построения модели\n",
    "    model = ensemble.RandomForestClassifier(**params, random_state=random_state)\n",
    "\n",
    "    # обучаем модель без кросс-валидации\n",
    "    # model.fit(X, y)\n",
    "    # score = metrics.f1_score(y, model.predict(X))\n",
    "    \n",
    "    # обучать модель можно также с помощью кросс-валидации\n",
    "    # применим  cross validation с тем же количеством фолдов\n",
    "    score = cross_val_score(model, X, y, cv=cv, scoring=\"f1\", n_jobs=-1).mean()\n",
    "\n",
    "    # метрику необходимо минимизировать, поэтому ставим знак минус\n",
    "    return -score"
   ]
  },
  {
   "cell_type": "code",
   "execution_count": 72,
   "id": "qxKIThc002O1",
   "metadata": {
    "colab": {
     "base_uri": "https://localhost:8080/"
    },
    "executionInfo": {
     "elapsed": 70337,
     "status": "ok",
     "timestamp": 1650551679952,
     "user": {
      "displayName": "VICDS _",
      "userId": "16539764637744847477"
     },
     "user_tz": -180
    },
    "id": "qxKIThc002O1",
    "outputId": "4b4bea25-30cc-4c10-a4e9-9a5e9e1778aa"
   },
   "outputs": [
    {
     "name": "stdout",
     "output_type": "stream",
     "text": [
      "CPU times: total: 0 ns\n",
      "Wall time: 0 ns\n",
      "100%|██████████| 20/20 [03:35<00:00, 10.78s/trial, best loss: -0.8097798646226206]\n",
      "Наилучшие значения гиперпараметров {'max_depth': 22.0, 'min_samples_leaf': 3.0, 'n_estimators': 200.0}\n"
     ]
    }
   ],
   "source": [
    "# начинаем подбор гиперпараметров\n",
    "%time\n",
    "\n",
    "trials = Trials() # используется для логирования результатов\n",
    "\n",
    "best=fmin(hyperopt_rf, # наша функция \n",
    "          space=space, # пространство гиперпараметров\n",
    "          algo=tpe.suggest, # алгоритм оптимизации, установлен по умолчанию, задавать необязательно\n",
    "          max_evals=20, # максимальное количество итераций\n",
    "          trials=trials, # логирование результатов\n",
    "          rstate=np.random.default_rng(random_state)# фиксируем для повторяемости результата\n",
    "         )\n",
    "\n",
    "print(\"Наилучшие значения гиперпараметров {}\".format(best))"
   ]
  },
  {
   "cell_type": "code",
   "execution_count": 73,
   "id": "GjN-n5J601hy",
   "metadata": {
    "colab": {
     "base_uri": "https://localhost:8080/"
    },
    "executionInfo": {
     "elapsed": 4134,
     "status": "ok",
     "timestamp": 1650551683990,
     "user": {
      "displayName": "VICDS _",
      "userId": "16539764637744847477"
     },
     "user_tz": -180
    },
    "id": "GjN-n5J601hy",
    "outputId": "c777ff23-61fa-4988-b1c6-d0d44ec39792"
   },
   "outputs": [
    {
     "name": "stdout",
     "output_type": "stream",
     "text": [
      "f1_score на тестовом наборе: 0.83\n"
     ]
    }
   ],
   "source": [
    "# рассчитаем точность для тестовой выборки\n",
    "model = ensemble.RandomForestClassifier(random_state=random_state, n_estimators=int(best['n_estimators']),   \n",
    "                                        max_depth=int(best['max_depth']),\n",
    "                                        min_samples_leaf=int(best['min_samples_leaf']))\n",
    "model.fit(X_train, y_train)\n",
    "y_test_pred = model.predict(X_test)\n",
    "print('f1_score на тестовом наборе: {:.2f}'.format(metrics.f1_score(y_test, y_test_pred)))"
   ]
  },
  {
   "cell_type": "markdown",
   "id": "TqQqJI7UHLUJ",
   "metadata": {
    "id": "TqQqJI7UHLUJ"
   },
   "source": [
    "Видим, что Hyperot с кросс-валидацией смог улучшить нашу метрику для RandomForestClassifier\n",
    "\n",
    "Для Hyperopt с кросс-валидацией наилучшие значения гиперпараметров {'max_depth': 22.0, 'min_samples_leaf': 3.0, 'n_estimators': 200.0} f1_score на тестовом наборе: 0.83\n",
    "\n",
    "Для RandomizedSearchCV наилучшие значения гиперпараметров были: {'n_estimators': 300, 'min_samples_leaf': 3, 'max_depth': 22} f1_score на тестовом наборе: 0.82"
   ]
  },
  {
   "cell_type": "markdown",
   "id": "b8734d51-d5d5-4424-b8a3-b341dde985b5",
   "metadata": {
    "id": "b8734d51-d5d5-4424-b8a3-b341dde985b5"
   },
   "source": [
    "### <center> **Optuna**"
   ]
  },
  {
   "cell_type": "code",
   "execution_count": 74,
   "id": "b495b087",
   "metadata": {},
   "outputs": [],
   "source": [
    "import optuna"
   ]
  },
  {
   "cell_type": "markdown",
   "id": "f9b7ba96",
   "metadata": {},
   "source": [
    "**Настроим оптимизацию гиперпараметров для алгоритма логистической регрессии. Используем кросс-валидацию.** "
   ]
  },
  {
   "cell_type": "code",
   "execution_count": 75,
   "id": "dd6e92eb",
   "metadata": {},
   "outputs": [],
   "source": [
    "penalty_list = ['l2', 'none']\n",
    "solver_list = ['lbfgs', 'sag']\n",
    "\n",
    "\n",
    "def optuna_lr(trial):\n",
    "  # задаем пространства поиска гиперпараметров\n",
    "  penalty = trial.suggest_categorical('penalty', penalty_list)\n",
    "  solver = trial.suggest_categorical('solver', ['lbfgs', 'sag'])\n",
    "  C = trial.suggest_float('C', low=0.01, high=1, step=0.01)\n",
    "  \n",
    "  # создаем модель\n",
    "  model = linear_model.LogisticRegression(penalty=penalty,\n",
    "                                          solver=solver,\n",
    "                                          C=C,\n",
    "                                          max_iter = 100,\n",
    "                                          random_state=42)\n",
    "  # обучаем модель\n",
    "  #model.fit(X_train, y_train)\n",
    "  #score = metrics.f1_score(y_train, model.predict(X_train))\n",
    "  \n",
    "   # обучаем модель с помощью кросс-валидации\n",
    "  score = cross_val_score(model, X, y, cv=5, scoring=\"f1\", n_jobs=-1).mean()\n",
    "\n",
    "  return score\n",
    "  "
   ]
  },
  {
   "cell_type": "code",
   "execution_count": null,
   "id": "4244c988",
   "metadata": {},
   "outputs": [],
   "source": [
    "%%time\n",
    "# cоздаем объект исследования\n",
    "# можем напрямую указать, что нам необходимо максимизировать метрику direction=\"maximize\"\n",
    "study = optuna.create_study(study_name=\"LogisticRegression\", direction=\"maximize\")\n",
    "# ищем лучшую комбинацию гиперпараметров n_trials раз\n",
    "study.optimize(optuna_lr, n_trials=20)"
   ]
  },
  {
   "cell_type": "code",
   "execution_count": 77,
   "id": "fe029bce",
   "metadata": {},
   "outputs": [
    {
     "name": "stdout",
     "output_type": "stream",
     "text": [
      "Наилучшие значения гиперпараметров {'penalty': 'l2', 'solver': 'lbfgs', 'C': 0.04}\n"
     ]
    }
   ],
   "source": [
    "# выводим результаты на обучающей выборке\n",
    "print(\"Наилучшие значения гиперпараметров {}\".format(study.best_params))\n",
    "#print(\"f1_score на обучающем наборе: {:.2f}\".format(study.best_value))"
   ]
  },
  {
   "cell_type": "code",
   "execution_count": 78,
   "id": "6d67ecb4",
   "metadata": {},
   "outputs": [
    {
     "name": "stdout",
     "output_type": "stream",
     "text": [
      "f1_score на тестовом наборе: 0.80\n"
     ]
    }
   ],
   "source": [
    "# рассчитаем точность для тестовой выборки\n",
    "model = linear_model.LogisticRegression(**study.best_params,max_iter = 1000, random_state=42 )\n",
    "model.fit(X_train, y_train)\n",
    "\n",
    "y_test_pred = model.predict(X_test)\n",
    "print('f1_score на тестовом наборе: {:.2f}'.format(metrics.f1_score(y_test, y_test_pred)))"
   ]
  },
  {
   "cell_type": "markdown",
   "id": "b876dee0",
   "metadata": {},
   "source": [
    "Optuna удалось улучшить нашу метрику для LogisticRegression с 0.79 до 0.8\n",
    "\n",
    "Для Optuna с кросс-валидацией наилучшие значения гиперпараметров {'penalty': 'l2', 'solver': 'lbfgs', 'C': 0.04} f1_score на тестовом наборе: 0.8\n",
    "\n",
    "Для RandomizedSearchCV наилучшие значения гиперпараметров были: Best parameters:  penalty= l2  solver= lbfgs  С= 0.0829 f1_score на тестовом наборе: 0.79"
   ]
  },
  {
   "cell_type": "markdown",
   "id": "PPR54ca3DbDi",
   "metadata": {
    "id": "PPR54ca3DbDi"
   },
   "source": [
    "**Настроим оптимизацию гиперпараметров для алгоритма случайного леса. Используем кросс-валидацию.** "
   ]
  },
  {
   "cell_type": "code",
   "execution_count": 79,
   "id": "aSF_70FWu3T6",
   "metadata": {
    "id": "aSF_70FWu3T6"
   },
   "outputs": [],
   "source": [
    "def optuna_rf(trial):\n",
    "  # задаем пространства поиска гиперпараметров\n",
    "  n_estimators = trial.suggest_int('n_estimators', 100, 300, 10)\n",
    "  max_depth = trial.suggest_int('max_depth', 15, 40, 1)\n",
    "  min_samples_leaf = trial.suggest_int('min_samples_leaf', 3, 7, 1)\n",
    "\n",
    "  # создаем модель\n",
    "  model = ensemble.RandomForestClassifier(n_estimators=n_estimators,\n",
    "                                          max_depth=max_depth,\n",
    "                                          min_samples_leaf=min_samples_leaf,\n",
    "                                          random_state=random_state)\n",
    "  # обучаем модель\n",
    "  #model.fit(X_train, y_train)\n",
    "  #score = metrics.f1_score(y_train, model.predict(X_train))\n",
    "  \n",
    "   # обучаем модель с помощью кросс-валидации\n",
    "  score = cross_val_score(model, X, y, cv=5, scoring=\"f1\", n_jobs=-1).mean()\n",
    "\n",
    "  return score\n",
    "  \n",
    "  "
   ]
  },
  {
   "cell_type": "code",
   "execution_count": 80,
   "id": "ubC21yLQpYyF",
   "metadata": {
    "colab": {
     "base_uri": "https://localhost:8080/"
    },
    "executionInfo": {
     "elapsed": 65014,
     "status": "ok",
     "timestamp": 1650551767856,
     "user": {
      "displayName": "VICDS _",
      "userId": "16539764637744847477"
     },
     "user_tz": -180
    },
    "id": "ubC21yLQpYyF",
    "outputId": "ea522f15-73ad-4e5c-9ee3-50212938acdd"
   },
   "outputs": [
    {
     "name": "stderr",
     "output_type": "stream",
     "text": [
      "\u001b[32m[I 2023-03-08 23:37:17,095]\u001b[0m A new study created in memory with name: RandomForestClassifier\u001b[0m\n",
      "\u001b[32m[I 2023-03-08 23:37:36,768]\u001b[0m Trial 0 finished with value: 0.8151351589319347 and parameters: {'n_estimators': 260, 'max_depth': 40, 'min_samples_leaf': 3}. Best is trial 0 with value: 0.8151351589319347.\u001b[0m\n",
      "\u001b[32m[I 2023-03-08 23:37:48,731]\u001b[0m Trial 1 finished with value: 0.8079169442191955 and parameters: {'n_estimators': 150, 'max_depth': 33, 'min_samples_leaf': 4}. Best is trial 0 with value: 0.8151351589319347.\u001b[0m\n",
      "\u001b[32m[I 2023-03-08 23:38:04,550]\u001b[0m Trial 2 finished with value: 0.8050802850118579 and parameters: {'n_estimators': 250, 'max_depth': 21, 'min_samples_leaf': 7}. Best is trial 0 with value: 0.8151351589319347.\u001b[0m\n",
      "\u001b[32m[I 2023-03-08 23:38:18,472]\u001b[0m Trial 3 finished with value: 0.8042080387870817 and parameters: {'n_estimators': 220, 'max_depth': 23, 'min_samples_leaf': 7}. Best is trial 0 with value: 0.8151351589319347.\u001b[0m\n",
      "\u001b[32m[I 2023-03-08 23:38:31,554]\u001b[0m Trial 4 finished with value: 0.8055112185508261 and parameters: {'n_estimators': 200, 'max_depth': 33, 'min_samples_leaf': 7}. Best is trial 0 with value: 0.8151351589319347.\u001b[0m\n",
      "\u001b[32m[I 2023-03-08 23:38:40,803]\u001b[0m Trial 5 finished with value: 0.8064719897500471 and parameters: {'n_estimators': 110, 'max_depth': 15, 'min_samples_leaf': 5}. Best is trial 0 with value: 0.8151351589319347.\u001b[0m\n",
      "\u001b[32m[I 2023-03-08 23:38:56,520]\u001b[0m Trial 6 finished with value: 0.8053802652664277 and parameters: {'n_estimators': 240, 'max_depth': 36, 'min_samples_leaf': 7}. Best is trial 0 with value: 0.8151351589319347.\u001b[0m\n",
      "\u001b[32m[I 2023-03-08 23:39:10,767]\u001b[0m Trial 7 finished with value: 0.8113340671351097 and parameters: {'n_estimators': 170, 'max_depth': 40, 'min_samples_leaf': 3}. Best is trial 0 with value: 0.8151351589319347.\u001b[0m\n",
      "\u001b[32m[I 2023-03-08 23:39:26,945]\u001b[0m Trial 8 finished with value: 0.8013570732307684 and parameters: {'n_estimators': 240, 'max_depth': 38, 'min_samples_leaf': 6}. Best is trial 0 with value: 0.8151351589319347.\u001b[0m\n",
      "\u001b[32m[I 2023-03-08 23:39:39,156]\u001b[0m Trial 9 finished with value: 0.8087086458678122 and parameters: {'n_estimators': 160, 'max_depth': 17, 'min_samples_leaf': 4}. Best is trial 0 with value: 0.8151351589319347.\u001b[0m\n",
      "\u001b[32m[I 2023-03-08 23:40:04,137]\u001b[0m Trial 10 finished with value: 0.8131028929324376 and parameters: {'n_estimators': 280, 'max_depth': 28, 'min_samples_leaf': 3}. Best is trial 0 with value: 0.8151351589319347.\u001b[0m\n",
      "\u001b[32m[I 2023-03-08 23:40:26,810]\u001b[0m Trial 11 finished with value: 0.8147328804906602 and parameters: {'n_estimators': 300, 'max_depth': 28, 'min_samples_leaf': 3}. Best is trial 0 with value: 0.8151351589319347.\u001b[0m\n",
      "\u001b[32m[I 2023-03-08 23:40:48,019]\u001b[0m Trial 12 finished with value: 0.8088952935918622 and parameters: {'n_estimators': 300, 'max_depth': 27, 'min_samples_leaf': 4}. Best is trial 0 with value: 0.8151351589319347.\u001b[0m\n",
      "\u001b[32m[I 2023-03-08 23:41:08,738]\u001b[0m Trial 13 finished with value: 0.8127342737873032 and parameters: {'n_estimators': 280, 'max_depth': 29, 'min_samples_leaf': 3}. Best is trial 0 with value: 0.8151351589319347.\u001b[0m\n",
      "\u001b[32m[I 2023-03-08 23:41:28,853]\u001b[0m Trial 14 finished with value: 0.8102873123771992 and parameters: {'n_estimators': 300, 'max_depth': 33, 'min_samples_leaf': 5}. Best is trial 0 with value: 0.8151351589319347.\u001b[0m\n",
      "\u001b[32m[I 2023-03-08 23:41:49,191]\u001b[0m Trial 15 finished with value: 0.815025462080339 and parameters: {'n_estimators': 270, 'max_depth': 24, 'min_samples_leaf': 3}. Best is trial 0 with value: 0.8151351589319347.\u001b[0m\n",
      "\u001b[32m[I 2023-03-08 23:42:07,023]\u001b[0m Trial 16 finished with value: 0.8099137201803815 and parameters: {'n_estimators': 260, 'max_depth': 23, 'min_samples_leaf': 4}. Best is trial 0 with value: 0.8151351589319347.\u001b[0m\n",
      "\u001b[32m[I 2023-03-08 23:42:22,276]\u001b[0m Trial 17 finished with value: 0.8154743403493756 and parameters: {'n_estimators': 210, 'max_depth': 20, 'min_samples_leaf': 3}. Best is trial 17 with value: 0.8154743403493756.\u001b[0m\n",
      "\u001b[32m[I 2023-03-08 23:42:36,213]\u001b[0m Trial 18 finished with value: 0.804141652405628 and parameters: {'n_estimators': 210, 'max_depth': 18, 'min_samples_leaf': 6}. Best is trial 17 with value: 0.8154743403493756.\u001b[0m\n",
      "\u001b[32m[I 2023-03-08 23:42:49,202]\u001b[0m Trial 19 finished with value: 0.8062155520825378 and parameters: {'n_estimators': 180, 'max_depth': 20, 'min_samples_leaf': 4}. Best is trial 17 with value: 0.8154743403493756.\u001b[0m\n"
     ]
    },
    {
     "name": "stdout",
     "output_type": "stream",
     "text": [
      "CPU times: total: 1.7 s\n",
      "Wall time: 5min 32s\n"
     ]
    }
   ],
   "source": [
    "%%time\n",
    "# cоздаем объект исследования\n",
    "# можем напрямую указать, что нам необходимо максимизировать метрику direction=\"maximize\"\n",
    "study = optuna.create_study(study_name=\"RandomForestClassifier\", direction=\"maximize\")\n",
    "# ищем лучшую комбинацию гиперпараметров n_trials раз\n",
    "study.optimize(optuna_rf, n_trials=20)"
   ]
  },
  {
   "cell_type": "code",
   "execution_count": 81,
   "id": "6cNF33I2pYaq",
   "metadata": {
    "colab": {
     "base_uri": "https://localhost:8080/"
    },
    "executionInfo": {
     "elapsed": 89,
     "status": "ok",
     "timestamp": 1650551767860,
     "user": {
      "displayName": "VICDS _",
      "userId": "16539764637744847477"
     },
     "user_tz": -180
    },
    "id": "6cNF33I2pYaq",
    "outputId": "d21953d4-bdbe-4bb6-baae-d897096f14df"
   },
   "outputs": [
    {
     "name": "stdout",
     "output_type": "stream",
     "text": [
      "Наилучшие значения гиперпараметров {'n_estimators': 210, 'max_depth': 20, 'min_samples_leaf': 3}\n"
     ]
    }
   ],
   "source": [
    "# выводим результаты на обучающей выборке\n",
    "print(\"Наилучшие значения гиперпараметров {}\".format(study.best_params))\n",
    "#print(\"f1_score на обучающем наборе: {:.2f}\".format(study.best_value))"
   ]
  },
  {
   "cell_type": "code",
   "execution_count": 82,
   "id": "JlFIQ0p1pYAJ",
   "metadata": {
    "colab": {
     "base_uri": "https://localhost:8080/"
    },
    "executionInfo": {
     "elapsed": 3002,
     "status": "ok",
     "timestamp": 1650551770804,
     "user": {
      "displayName": "VICDS _",
      "userId": "16539764637744847477"
     },
     "user_tz": -180
    },
    "id": "JlFIQ0p1pYAJ",
    "outputId": "21fcd48a-c265-458d-e51c-91a68213ac33"
   },
   "outputs": [
    {
     "name": "stdout",
     "output_type": "stream",
     "text": [
      "f1_score на тестовом наборе: 0.83\n"
     ]
    }
   ],
   "source": [
    "# рассчитаем точность для тестовой выборки\n",
    "model = ensemble.RandomForestClassifier(**study.best_params,random_state=random_state, )\n",
    "model.fit(X_train, y_train)\n",
    "\n",
    "y_test_pred = model.predict(X_test)\n",
    "print('f1_score на тестовом наборе: {:.2f}'.format(metrics.f1_score(y_test, y_test_pred)))"
   ]
  },
  {
   "cell_type": "markdown",
   "id": "322b8ff9",
   "metadata": {},
   "source": [
    "Видим, что Optuna как и Hyperopt улучшил нашу метрику для RandomForestClassifier (Wall time: 5min 26s)\n",
    "\n",
    "Для Optuna с кросс-валидацией наилучшие значения гиперпараметров {'n_estimators': 220, 'max_depth': 15, 'min_samples_leaf': 3} f1_score на тестовом наборе: 0.83\n",
    "\n",
    "Для RandomizedSearchCV наилучшие значения гиперпараметров были: {'n_estimators': 300, 'min_samples_leaf': 3, 'max_depth': 22} f1_score на тестовом наборе: 0.83"
   ]
  },
  {
   "cell_type": "markdown",
   "id": "68579335",
   "metadata": {},
   "source": [
    "\n",
    "1)   GridSearchCV\n",
    "\n",
    "1.1) LogisticRegression\n",
    "Наилучшие значения гиперпараметров: {'C': 0.1, 'penalty': 'l2', 'solver': 'sag'} f1_score на тестовом наборе: 0.79 (Wall time: 2min 22s)\n",
    "\n",
    "1.2) RandomForestClassifier\n",
    "Наилучшие значения гиперпараметров: {'max_depth': 22, 'min_samples_leaf': 1, 'n_estimators': 200} f1_score на тестовом наборе: 0.82 (Wall time: 5min 44)\n",
    "\n",
    "2)   RandomizedSearchCV\n",
    "\n",
    "2.1) LogisticRegression\n",
    "Наилучшие значения гиперпараметров: {'solver': 'sag', 'penalty': 'l2', 'C': 0.1} f1_score на тестовом наборе: 0.79 (Wall time: 1min 52s)\n",
    "\n",
    "2.2) RandomForestClassifier\n",
    "Наилучшие значения гиперпараметров: {'n_estimators': 200, 'min_samples_leaf': 3, 'max_depth': 22} f1_score на тестовом наборе: 0.83 (Wall time: 49 s)\n",
    "\n",
    "3)   Hyperopt\n",
    "\n",
    "3.1) LogisticRegression\n",
    "Наилучшие значения гиперпараметров:  penalty= l2  solver= lbfgs  С= 0.08292441519601887 f1_score на тестовом наборе: 0.79 (Wall time: 4min 32s)\n",
    "\n",
    "3.2) RandomForestClassifier\n",
    "Наилучшие значения гиперпараметров:  {'max_depth': 22.0, 'min_samples_leaf': 3.0, 'n_estimators': 200.0} f1_score на тестовом наборе: 0.83 (Wall time: 3min 35s)\n",
    "\n",
    "4)   Optuna\n",
    "\n",
    "4.1) LogisticRegression\n",
    "Наилучшие значения гиперпараметров:  {'penalty': 'l2', 'solver': 'lbfgs', 'C': 0.04} f1_score на тестовом наборе: 0.8 (Wall time: 5min 8s)\n",
    "\n",
    "4.2) RandomForestClassifier\n",
    "Наилучшие значения гиперпараметров {'n_estimators': 210, 'max_depth': 20, 'min_samples_leaf': 3} f1_score на тестовом наборе: 0.83 (Wall time: 5min 32s)"
   ]
  }
 ],
 "metadata": {
  "colab": {
   "collapsed_sections": [
    "ezanmTbEaAOe",
    "8lbyun1kaAOy",
    "M20nsIRfaAP-"
   ],
   "name": "ML-7.Optimization of hyperparameters.ipynb",
   "provenance": []
  },
  "kernelspec": {
   "display_name": "Python 3.8.10 64-bit",
   "language": "python",
   "name": "python3"
  },
  "language_info": {
   "codemirror_mode": {
    "name": "ipython",
    "version": 3
   },
   "file_extension": ".py",
   "mimetype": "text/x-python",
   "name": "python",
   "nbconvert_exporter": "python",
   "pygments_lexer": "ipython3",
   "version": "3.8.10"
  },
  "vscode": {
   "interpreter": {
    "hash": "f1038a4979ef951f625b950a67e5c3dc6aa44e8029b2a05701a7e9a2b4463a72"
   }
  }
 },
 "nbformat": 4,
 "nbformat_minor": 5
}

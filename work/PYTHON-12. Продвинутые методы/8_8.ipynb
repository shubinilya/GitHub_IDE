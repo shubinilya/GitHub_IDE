{
 "cells": [
  {
   "cell_type": "code",
   "execution_count": 15,
   "metadata": {},
   "outputs": [
    {
     "name": "stderr",
     "output_type": "stream",
     "text": [
      "C:\\Users\\Shubin10\\AppData\\Local\\Temp\\ipykernel_828\\266899048.py:16: SettingWithCopyWarning: \n",
      "A value is trying to be set on a copy of a slice from a DataFrame.\n",
      "Try using .loc[row_indexer,col_indexer] = value instead\n",
      "\n",
      "See the caveats in the documentation: https://pandas.pydata.org/pandas-docs/stable/user_guide/indexing.html#returning-a-view-versus-a-copy\n",
      "  orders_pay['profit'] = orders_pay['Количество']*orders_pay['Price']\n"
     ]
    },
    {
     "data": {
      "text/html": [
       "<div>\n",
       "<style scoped>\n",
       "    .dataframe tbody tr th:only-of-type {\n",
       "        vertical-align: middle;\n",
       "    }\n",
       "\n",
       "    .dataframe tbody tr th {\n",
       "        vertical-align: top;\n",
       "    }\n",
       "\n",
       "    .dataframe thead th {\n",
       "        text-align: right;\n",
       "    }\n",
       "</style>\n",
       "<table border=\"1\" class=\"dataframe\">\n",
       "  <thead>\n",
       "    <tr style=\"text-align: right;\">\n",
       "      <th></th>\n",
       "      <th>profit</th>\n",
       "    </tr>\n",
       "    <tr>\n",
       "      <th>ID Покупателя</th>\n",
       "      <th></th>\n",
       "    </tr>\n",
       "  </thead>\n",
       "  <tbody>\n",
       "    <tr>\n",
       "      <th>7</th>\n",
       "      <td>17096</td>\n",
       "    </tr>\n",
       "    <tr>\n",
       "      <th>5</th>\n",
       "      <td>13043</td>\n",
       "    </tr>\n",
       "    <tr>\n",
       "      <th>8</th>\n",
       "      <td>1344</td>\n",
       "    </tr>\n",
       "  </tbody>\n",
       "</table>\n",
       "</div>"
      ],
      "text/plain": [
       "               profit\n",
       "ID Покупателя        \n",
       "7               17096\n",
       "5               13043\n",
       "8                1344"
      ]
     },
     "execution_count": 15,
     "metadata": {},
     "output_type": "execute_result"
    }
   ],
   "source": [
    "import pandas as pd\n",
    "products_df = pd.read_csv('data/products.csv',sep=';')\n",
    "orders_df = pd.read_csv('data/orders.csv',sep=';')\n",
    "\n",
    "products_df.head(10)\n",
    "\n",
    "#Объедините заданные таблицы в таблицу orders_products, чтобы в результирующей \n",
    "# таблице оказалась информация обо всех заказах, но не оказалось информации о продуктах, на которых заказов ещё не поступало.\n",
    "\n",
    "orders_products = pd.merge(orders_df, products_df, left_on='ID товара', right_on='Product_ID')\n",
    "\n",
    "#Какой покупатель принёс наибольшую суммарную прибыль интернет-магазину за указанный период?\n",
    "\n",
    "orders_pay = orders_products[orders_products['Оплачен'] == 'Да']\n",
    "\n",
    "orders_pay['profit'] = orders_pay['Количество']*orders_pay['Price']\n",
    "\n",
    "user_profit = orders_pay.groupby('ID Покупателя')[['profit']].agg('sum').sort_values(by = 'profit', ascending= False)\n",
    "\n",
    "user_profit.head(100)\n"
   ]
  }
 ],
 "metadata": {
  "kernelspec": {
   "display_name": "Python 3.8.10 64-bit",
   "language": "python",
   "name": "python3"
  },
  "language_info": {
   "codemirror_mode": {
    "name": "ipython",
    "version": 3
   },
   "file_extension": ".py",
   "mimetype": "text/x-python",
   "name": "python",
   "nbconvert_exporter": "python",
   "pygments_lexer": "ipython3",
   "version": "3.8.10"
  },
  "orig_nbformat": 4,
  "vscode": {
   "interpreter": {
    "hash": "d7768b5b9a194202b9549ec2e346f0cc828fd64f05a98fdee0a485e525187917"
   }
  }
 },
 "nbformat": 4,
 "nbformat_minor": 2
}

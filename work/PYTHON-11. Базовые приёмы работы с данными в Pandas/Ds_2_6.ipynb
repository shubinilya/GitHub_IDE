{
 "cells": [
  {
   "cell_type": "code",
   "execution_count": 35,
   "metadata": {},
   "outputs": [
    {
     "name": "stdout",
     "output_type": "stream",
     "text": [
      "12822\n"
     ]
    }
   ],
   "source": [
    "import pandas as pd\n",
    "\n",
    "melb_data = pd.read_csv('data/melb_data_ps.csv', sep=',')\n",
    "\n",
    "melb_df = melb_data.copy()\n",
    "melb_df = melb_df.drop(['index', 'Coordinates'], axis=1)\n",
    "#melb_df.head()\n",
    "#melb_df.info()\n",
    "\n",
    "melb_df['Date'] = pd.to_datetime(melb_df['Date'], dayfirst=True)\n",
    "#display(melb_df['Date'])\n",
    "\n",
    "melb_df['MonthSale'] = melb_df['Date'].dt.month\n",
    "#melb_df['MonthSale'].value_counts(normalize=True)\n",
    "\n",
    "melb_df['AgeBuilding'] = melb_df['Date'].dt.year - melb_df['YearBuilt']\n",
    "#display(melb_df['AgeBuilding'])\n",
    "melb_df = melb_df.drop('YearBuilt', axis=1)\n",
    "\n",
    "melb_df['WeekdaySale'] = melb_df['Date'].dt.dayofweek\n",
    "\n",
    "melb_df.head()\n",
    "\n",
    "melb_df_new = melb_df[(melb_df['WeekdaySale'] == 5)|(melb_df['WeekdaySale'] == 6)]\n",
    "\n",
    "weekend_count = melb_df_new.shape[0]\n",
    "\n",
    "melb_df_new.head()\n",
    "\n",
    "print(weekend_count)\n",
    "\n",
    "#melb_df.head()\n"
   ]
  },
  {
   "cell_type": "code",
   "execution_count": 36,
   "metadata": {},
   "outputs": [
    {
     "name": "stdout",
     "output_type": "stream",
     "text": [
      "13378\n",
      "1081198.6406956792\n"
     ]
    }
   ],
   "source": [
    "print(melb_df['Address'].nunique())\n",
    "\n",
    "def get_street_type(address):\n",
    "# Создаём список географических пометок exclude_list.\n",
    "    exclude_list = ['N', 'S', 'W', 'E']\n",
    "# Метод split() разбивает строку на слова по пробелу.\n",
    "# В результате получаем список слов в строке и заносим его в переменную address_list.\n",
    "    address_list = address.split(' ')\n",
    "# Обрезаем список, оставляя в нём только последний элемент,\n",
    "# потенциальный подтип улицы, и заносим в переменную street_type.\n",
    "    street_type = address_list[-1]\n",
    "# Делаем проверку на то, что полученный подтип является географической пометкой.\n",
    "# Для этого проверяем его на наличие в списке exclude_list.\n",
    "    if street_type in exclude_list:\n",
    "# Если переменная street_type является географической пометкой,\n",
    "# переопределяем её на второй элемент с конца списка address_list.\n",
    "        street_type = address_list[-2]\n",
    "# Возвращаем переменную street_type, в которой хранится подтип улицы.\n",
    "    return street_type\n",
    "\n",
    "street_types = melb_df['Address'].apply(get_street_type)\n",
    "\n",
    "street_types = street_types.apply(lambda x: x if x != 'Avenue' else 'Av')\n",
    "street_types = street_types.apply(lambda x: x if x != 'Boulevard' else 'Bvd')\n",
    "street_types = street_types.apply(lambda x: x if x != 'Parade' else 'Pde')\n",
    "\n",
    "popular_stypes =street_types.value_counts().nlargest(10).index\n",
    "#display(street_types.value_counts())\n",
    "#print(popular_stypes.nunique())\n",
    "\n",
    "melb_df['StreetType'] = street_types.apply(lambda x: x if x in popular_stypes else 'other')\n",
    "#display(melb_df['StreetType'])\n",
    "melb_df = melb_df.drop('Address', axis=1)\n",
    "melb_df['Weekend'] = melb_df['WeekdaySale'].apply(lambda x: 1 if x in [5,6] else 0)\n",
    "#melb_df.head()\n",
    "melb_df_filter = melb_df[melb_df['Weekend']==1]\n",
    "print(melb_df_filter['Price'].mean())"
   ]
  }
 ],
 "metadata": {
  "kernelspec": {
   "display_name": "Python 3.8.10 64-bit",
   "language": "python",
   "name": "python3"
  },
  "language_info": {
   "codemirror_mode": {
    "name": "ipython",
    "version": 3
   },
   "file_extension": ".py",
   "mimetype": "text/x-python",
   "name": "python",
   "nbconvert_exporter": "python",
   "pygments_lexer": "ipython3",
   "version": "3.8.10"
  },
  "orig_nbformat": 4,
  "vscode": {
   "interpreter": {
    "hash": "d7768b5b9a194202b9549ec2e346f0cc828fd64f05a98fdee0a485e525187917"
   }
  }
 },
 "nbformat": 4,
 "nbformat_minor": 2
}

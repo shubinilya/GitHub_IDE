{
 "cells": [
  {
   "cell_type": "code",
   "execution_count": 15,
   "metadata": {},
   "outputs": [
    {
     "name": "stdout",
     "output_type": "stream",
     "text": [
      "1999\n",
      "76      1947-07-15 10:00:00\n",
      "172     1952-02-17 18:00:00\n",
      "565     1959-09-15 00:00:00\n",
      "566     1959-09-15 01:00:00\n",
      "613     1960-07-01 12:00:00\n",
      "                ...        \n",
      "17447   2000-09-16 22:00:00\n",
      "17567   2000-09-30 22:25:00\n",
      "17617   2000-10-06 20:25:00\n",
      "17890   2000-11-07 02:15:00\n",
      "18104   2000-12-10 17:30:00\n",
      "Name: Time, Length: 284, dtype: datetime64[ns]\n",
      "______________\n",
      "68.92932862190813\n"
     ]
    }
   ],
   "source": [
    "\n",
    "import pandas as pd\n",
    "\n",
    "ufo_data = pd.read_csv('data/ufo.csv', sep=',')\n",
    "ufo_data.head()\n",
    "\n",
    "ufo_data['Time'] = pd.to_datetime(ufo_data['Time'])\n",
    "ufo_data['Year'] = ufo_data['Time'].dt.year\n",
    "\n",
    "max_ufo = ufo_data['Year'].mode()[0]\n",
    "\n",
    "print(max_ufo)\n",
    "\n",
    "ufo_data = ufo_data[ufo_data['State'] == 'NV']\n",
    "#ufo_data.head()\n",
    "#ufo_data.info()\n",
    "\n",
    "med_Time = ufo_data['Time'].dt.date.diff(1)\n",
    "print(ufo_data['Time'])\n",
    "print('______________')\n",
    "print(med_Time.dt.days.mean())\n",
    "    "
   ]
  }
 ],
 "metadata": {
  "kernelspec": {
   "display_name": "Python 3.8.10 64-bit",
   "language": "python",
   "name": "python3"
  },
  "language_info": {
   "codemirror_mode": {
    "name": "ipython",
    "version": 3
   },
   "file_extension": ".py",
   "mimetype": "text/x-python",
   "name": "python",
   "nbconvert_exporter": "python",
   "pygments_lexer": "ipython3",
   "version": "3.8.10"
  },
  "orig_nbformat": 4,
  "vscode": {
   "interpreter": {
    "hash": "d7768b5b9a194202b9549ec2e346f0cc828fd64f05a98fdee0a485e525187917"
   }
  }
 },
 "nbformat": 4,
 "nbformat_minor": 2
}

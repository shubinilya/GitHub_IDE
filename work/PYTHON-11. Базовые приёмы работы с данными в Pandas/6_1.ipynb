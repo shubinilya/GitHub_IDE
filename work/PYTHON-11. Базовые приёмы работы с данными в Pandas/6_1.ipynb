{
 "cells": [
  {
   "cell_type": "code",
   "execution_count": 130,
   "metadata": {},
   "outputs": [
    {
     "name": "stdout",
     "output_type": "stream",
     "text": [
      "11837\n",
      "1126\n",
      "115135\n",
      "9.480411004308916\n"
     ]
    }
   ],
   "source": [
    "\n",
    "import pandas as pd\n",
    "import datetime\n",
    "\n",
    "citibike_data = pd.read_csv('data/citibike-tripdata.csv', sep=',')\n",
    "\n",
    "#print(citibike_data.shape[1])\n",
    "\n",
    "most_usertype = citibike_data['usertype'].mode()\n",
    "most_data = citibike_data[citibike_data['usertype'] == most_usertype[0]]\n",
    "#print(most_data.shape[0]/citibike_data['usertype'].shape[0])\n",
    "\n",
    "male_data =  citibike_data[citibike_data['gender'] == 1]\n",
    "female_data =  citibike_data[citibike_data['gender'] == 2]\n",
    "#print(max(male_data.shape[0],female_data.shape[0]))\n",
    "\n",
    "#print(citibike_data['start station id'].unique().shape[0])\n",
    "#print(citibike_data['end station id'].unique().shape[0])\n",
    "\n",
    "#old_data = pd.to_datetime(citibike_data['starttime']).dt.year\n",
    "\n",
    "#citibike_data.describe(include=['object'])\n",
    "citibike_data.drop(['start station id','end station id'],axis=1,inplace=True)\n",
    "#print(citibike_data.shape[1])\n",
    "#citibike_data['age'] =  pd.to_datetime(citibike_data['birth year']).dt.year\n",
    "citibike_data['age'] =  2018 - citibike_data['birth year']\n",
    "citibike_data_60 = citibike_data[citibike_data['age'] > 60]\n",
    "\n",
    "print(citibike_data_60.shape[0])\n",
    "#citibike_data['age'].nlargest(10)\n",
    "\n",
    "\n",
    "citibike_data['trip duration'] =  pd.to_datetime(citibike_data['stoptime'])-pd.to_datetime(citibike_data['starttime'])\n",
    "mean_trip_duration =  citibike_data['trip duration'].mean().seconds\n",
    "#citibike_data.head()\n",
    "print(mean_trip_duration)\n",
    "\n",
    "citibike_data['weekend'] = pd.to_datetime(citibike_data['starttime']).dt.dayofweek\n",
    "\n",
    "citibike_data['weekend'] =  citibike_data['weekend'].apply(lambda x: 1 if x in [5,6] else 0)\n",
    "\n",
    "citibike_weekend = citibike_data[citibike_data['weekend'] == 1]\n",
    "print(citibike_weekend.shape[0])\n",
    "\n",
    "def timeofday(day):\n",
    "    if 0 <= day <=6: return 'night'\n",
    "    if 6 < day <=12: return 'morning'\n",
    "    if 12 < day <=18: return 'day'\n",
    "    if 18 < day <=23: return 'evening'\n",
    "\n",
    "citibike_data['time_of_day'] = pd.to_datetime(citibike_data['starttime']).dt.hour\n",
    "\n",
    "citibike_data['time_of_day'] = citibike_data['time_of_day'].apply(timeofday)\n",
    "\n",
    "citibike_data_day = citibike_data[citibike_data['time_of_day'] == 'day']\n",
    "citibike_data_night = citibike_data[citibike_data['time_of_day'] == 'night']\n",
    "\n",
    "citibike_data.head()\n",
    "\n",
    "print(citibike_data_day.shape[0]/citibike_data_night.shape[0])\n"
   ]
  }
 ],
 "metadata": {
  "kernelspec": {
   "display_name": "Python 3.8.10 64-bit",
   "language": "python",
   "name": "python3"
  },
  "language_info": {
   "codemirror_mode": {
    "name": "ipython",
    "version": 3
   },
   "file_extension": ".py",
   "mimetype": "text/x-python",
   "name": "python",
   "nbconvert_exporter": "python",
   "pygments_lexer": "ipython3",
   "version": "3.8.10"
  },
  "orig_nbformat": 4,
  "vscode": {
   "interpreter": {
    "hash": "d7768b5b9a194202b9549ec2e346f0cc828fd64f05a98fdee0a485e525187917"
   }
  }
 },
 "nbformat": 4,
 "nbformat_minor": 2
}

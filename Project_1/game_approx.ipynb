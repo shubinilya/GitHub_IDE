{
 "cells": [
  {
   "cell_type": "markdown",
   "metadata": {},
   "source": [
    "# Игра угадай число"
   ]
  },
  {
   "cell_type": "code",
   "execution_count": 64,
   "metadata": {},
   "outputs": [
    {
     "ename": "ImportError",
     "evalue": "cannot import name 'score_game_new' from 'game_v3' (c:\\Users\\Shubin10\\Desktop\\IDE\\Project_1\\game_v3.py)",
     "output_type": "error",
     "traceback": [
      "\u001b[1;31m---------------------------------------------------------------------------\u001b[0m",
      "\u001b[1;31mImportError\u001b[0m                               Traceback (most recent call last)",
      "\u001b[1;32mc:\\Users\\Shubin10\\Desktop\\IDE\\Project_1\\game_approx.ipynb Cell 2'\u001b[0m in \u001b[0;36m<cell line: 1>\u001b[1;34m()\u001b[0m\n\u001b[1;32m----> <a href='vscode-notebook-cell:/c%3A/Users/Shubin10/Desktop/IDE/Project_1/game_approx.ipynb#ch0000001?line=0'>1</a>\u001b[0m \u001b[39mfrom\u001b[39;00m \u001b[39mgame_v3\u001b[39;00m \u001b[39mimport\u001b[39;00m score_game_new\n\u001b[0;32m      <a href='vscode-notebook-cell:/c%3A/Users/Shubin10/Desktop/IDE/Project_1/game_approx.ipynb#ch0000001?line=1'>2</a>\u001b[0m \u001b[39mfrom\u001b[39;00m \u001b[39mgame_v3\u001b[39;00m \u001b[39mimport\u001b[39;00m approx_predict\n",
      "\u001b[1;31mImportError\u001b[0m: cannot import name 'score_game_new' from 'game_v3' (c:\\Users\\Shubin10\\Desktop\\IDE\\Project_1\\game_v3.py)"
     ]
    }
   ],
   "source": [
    "from game_v3 import score_game_new\n",
    "from game_v3 import approx_predict"
   ]
  },
  {
   "cell_type": "markdown",
   "metadata": {},
   "source": [
    "## Угадываем методом последоватьельного приближения"
   ]
  },
  {
   "cell_type": "code",
   "execution_count": 62,
   "metadata": {},
   "outputs": [
    {
     "ename": "NameError",
     "evalue": "name 'score_game_new' is not defined",
     "output_type": "error",
     "traceback": [
      "\u001b[1;31m---------------------------------------------------------------------------\u001b[0m",
      "\u001b[1;31mNameError\u001b[0m                                 Traceback (most recent call last)",
      "\u001b[1;32mc:\\Users\\Shubin10\\Desktop\\IDE\\Project_1\\game_approx.ipynb Cell 4'\u001b[0m in \u001b[0;36m<cell line: 1>\u001b[1;34m()\u001b[0m\n\u001b[1;32m----> <a href='vscode-notebook-cell:/c%3A/Users/Shubin10/Desktop/IDE/Project_1/game_approx.ipynb#ch0000003?line=0'>1</a>\u001b[0m score_game_new(approx_predict)\n",
      "\u001b[1;31mNameError\u001b[0m: name 'score_game_new' is not defined"
     ]
    }
   ],
   "source": [
    "score_game_new(approx_predict)"
   ]
  }
 ],
 "metadata": {
  "interpreter": {
   "hash": "d7768b5b9a194202b9549ec2e346f0cc828fd64f05a98fdee0a485e525187917"
  },
  "kernelspec": {
   "display_name": "Python 3.8.10 64-bit",
   "language": "python",
   "name": "python3"
  },
  "language_info": {
   "codemirror_mode": {
    "name": "ipython",
    "version": 3
   },
   "file_extension": ".py",
   "mimetype": "text/x-python",
   "name": "python",
   "nbconvert_exporter": "python",
   "pygments_lexer": "ipython3",
   "version": "3.8.10"
  },
  "orig_nbformat": 4
 },
 "nbformat": 4,
 "nbformat_minor": 2
}
